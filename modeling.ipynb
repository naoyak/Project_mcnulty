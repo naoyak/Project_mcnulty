{
 "cells": [
  {
   "cell_type": "markdown",
   "metadata": {},
   "source": [
    "# Some modeling and threshold testing "
   ]
  },
  {
   "cell_type": "code",
   "execution_count": 2,
   "metadata": {
    "collapsed": true
   },
   "outputs": [],
   "source": [
    "# Standard imports\n",
    "import sqlite3\n",
    "import pandas as pd\n",
    "import numpy as np\n",
    "import matplotlib.pyplot as plt\n",
    "from sklearn.ensemble import RandomForestClassifier\n",
    "from sklearn.cross_validation import train_test_split\n",
    "from sklearn.ensemble import RandomForestClassifier, GradientBoostingClassifier\n",
    "from sklearn.linear_model import LogisticRegression\n",
    "from sklearn.metrics import roc_auc_score\n",
    "\n",
    "%matplotlib inline"
   ]
  },
  {
   "cell_type": "code",
   "execution_count": 3,
   "metadata": {
    "collapsed": false
   },
   "outputs": [],
   "source": [
    "data = pd.read_csv('data/loans_toy.csv')"
   ]
  },
  {
   "cell_type": "code",
   "execution_count": 4,
   "metadata": {
    "collapsed": false
   },
   "outputs": [
    {
     "name": "stdout",
     "output_type": "stream",
     "text": [
      "<class 'pandas.core.frame.DataFrame'>\n",
      "RangeIndex: 887350 entries, 0 to 887349\n",
      "Data columns (total 33 columns):\n",
      "Unnamed: 0                       887350 non-null int64\n",
      "annual_inc                       887350 non-null float64\n",
      "dti                              887350 non-null float64\n",
      "pub_rec                          887350 non-null float64\n",
      "loan_amnt                        887350 non-null float64\n",
      "binary_profit_loss               887350 non-null int64\n",
      "earliest_cr_line_month           887350 non-null float64\n",
      "earliest_cr_line_year            887350 non-null float64\n",
      "issue_d_month                    887350 non-null int64\n",
      "issue_d_year                     887350 non-null int64\n",
      "home_ownership_MORTGAGE          887350 non-null int64\n",
      "home_ownership_RENT              887350 non-null int64\n",
      "home_ownership_OWN               887350 non-null int64\n",
      "home_ownership_IS_OTHER_VALUE    887350 non-null int64\n",
      "purpose_debt_consolidation       887350 non-null int64\n",
      "purpose_credit_card              887350 non-null int64\n",
      "purpose_home_improvement         887350 non-null int64\n",
      "purpose_other                    887350 non-null int64\n",
      "purpose_major_purchase           887350 non-null int64\n",
      "purpose_small_business           887350 non-null int64\n",
      "purpose_car                      887350 non-null int64\n",
      "purpose_medical                  887350 non-null int64\n",
      "purpose_moving                   887350 non-null int64\n",
      "purpose_vacation                 887350 non-null int64\n",
      "purpose_house                    887350 non-null int64\n",
      "purpose_wedding                  887350 non-null int64\n",
      "purpose_renewable_energy         887350 non-null int64\n",
      "purpose_educational              887350 non-null int64\n",
      "purpose_IS_OTHER_VALUE           887350 non-null int64\n",
      "is_joint                         887350 non-null int64\n",
      "grade_num                        887350 non-null int64\n",
      "sub_grade_num                    887350 non-null int64\n",
      "term_num                         887350 non-null int64\n",
      "dtypes: float64(6), int64(27)\n",
      "memory usage: 223.4 MB\n"
     ]
    }
   ],
   "source": [
    "data.info()"
   ]
  },
  {
   "cell_type": "code",
   "execution_count": null,
   "metadata": {
    "collapsed": true
   },
   "outputs": [],
   "source": []
  }
 ],
 "metadata": {
  "kernelspec": {
   "display_name": "Python 2",
   "language": "python",
   "name": "python2"
  },
  "language_info": {
   "codemirror_mode": {
    "name": "ipython",
    "version": 2
   },
   "file_extension": ".py",
   "mimetype": "text/x-python",
   "name": "python",
   "nbconvert_exporter": "python",
   "pygments_lexer": "ipython2",
   "version": "2.7.11"
  }
 },
 "nbformat": 4,
 "nbformat_minor": 0
}
