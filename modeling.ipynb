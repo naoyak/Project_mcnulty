{
 "cells": [
  {
   "cell_type": "markdown",
   "metadata": {},
   "source": [
    "# Some modeling and threshold testing "
   ]
  },
  {
   "cell_type": "code",
   "execution_count": 45,
   "metadata": {
    "collapsed": true
   },
   "outputs": [],
   "source": [
    "# Standard imports\n",
    "import sqlite3\n",
    "import pandas as pd\n",
    "import numpy as np\n",
    "import matplotlib.pyplot as plt\n",
    "from sklearn.ensemble import RandomForestClassifier\n",
    "from sklearn.cross_validation import train_test_split\n",
    "from sklearn.ensemble import RandomForestClassifier, GradientBoostingClassifier\n",
    "from sklearn.linear_model import LogisticRegression\n",
    "from sklearn.metrics import roc_auc_score\n",
    "from sklearn.decomposition import PCA\n",
    "\n",
    "import sklearn.pipeline\n",
    "import sklearn.grid_search\n",
    "import sklearn\n",
    "\n",
    "%matplotlib inline"
   ]
  },
  {
   "cell_type": "code",
   "execution_count": 46,
   "metadata": {
    "collapsed": false
   },
   "outputs": [],
   "source": [
    "data = pd.read_csv('data/loans_toy.csv')"
   ]
  },
  {
   "cell_type": "code",
   "execution_count": 161,
   "metadata": {
    "collapsed": true
   },
   "outputs": [
    {
     "name": "stdout",
     "output_type": "stream",
     "text": [
      "<class 'pandas.core.frame.DataFrame'>\n",
      "RangeIndex: 887350 entries, 0 to 887349\n",
      "Data columns (total 34 columns):\n",
      "Unnamed: 0                       887350 non-null int64\n",
      "annual_inc                       887350 non-null float64\n",
      "dti                              887350 non-null float64\n",
      "pub_rec                          887350 non-null float64\n",
      "loan_amnt                        887350 non-null float64\n",
      "binary_profit_loss               887350 non-null int64\n",
      "profit_loss                      887350 non-null float64\n",
      "earliest_cr_line_month           887350 non-null float64\n",
      "earliest_cr_line_year            887350 non-null float64\n",
      "issue_d_month                    887350 non-null int64\n",
      "issue_d_year                     887350 non-null int64\n",
      "home_ownership_MORTGAGE          887350 non-null int64\n",
      "home_ownership_RENT              887350 non-null int64\n",
      "home_ownership_OWN               887350 non-null int64\n",
      "home_ownership_IS_OTHER_VALUE    887350 non-null int64\n",
      "purpose_debt_consolidation       887350 non-null int64\n",
      "purpose_credit_card              887350 non-null int64\n",
      "purpose_home_improvement         887350 non-null int64\n",
      "purpose_other                    887350 non-null int64\n",
      "purpose_major_purchase           887350 non-null int64\n",
      "purpose_small_business           887350 non-null int64\n",
      "purpose_car                      887350 non-null int64\n",
      "purpose_medical                  887350 non-null int64\n",
      "purpose_moving                   887350 non-null int64\n",
      "purpose_vacation                 887350 non-null int64\n",
      "purpose_house                    887350 non-null int64\n",
      "purpose_wedding                  887350 non-null int64\n",
      "purpose_renewable_energy         887350 non-null int64\n",
      "purpose_educational              887350 non-null int64\n",
      "purpose_IS_OTHER_VALUE           887350 non-null int64\n",
      "is_joint                         887350 non-null int64\n",
      "grade_num                        887350 non-null int64\n",
      "sub_grade_num                    887350 non-null int64\n",
      "term_num                         887350 non-null int64\n",
      "dtypes: float64(7), int64(27)\n",
      "memory usage: 230.2 MB\n"
     ]
    }
   ],
   "source": [
    "data.info()"
   ]
  },
  {
   "cell_type": "code",
   "execution_count": 55,
   "metadata": {
    "collapsed": true
   },
   "outputs": [
    {
     "data": {
      "text/html": [
       "<div>\n",
       "<table border=\"1\" class=\"dataframe\">\n",
       "  <thead>\n",
       "    <tr style=\"text-align: right;\">\n",
       "      <th></th>\n",
       "      <th>Unnamed: 0</th>\n",
       "      <th>annual_inc</th>\n",
       "      <th>dti</th>\n",
       "      <th>pub_rec</th>\n",
       "      <th>loan_amnt</th>\n",
       "      <th>binary_profit_loss</th>\n",
       "      <th>profit_loss</th>\n",
       "      <th>earliest_cr_line_month</th>\n",
       "      <th>earliest_cr_line_year</th>\n",
       "      <th>issue_d_month</th>\n",
       "      <th>...</th>\n",
       "      <th>purpose_vacation</th>\n",
       "      <th>purpose_house</th>\n",
       "      <th>purpose_wedding</th>\n",
       "      <th>purpose_renewable_energy</th>\n",
       "      <th>purpose_educational</th>\n",
       "      <th>purpose_IS_OTHER_VALUE</th>\n",
       "      <th>is_joint</th>\n",
       "      <th>grade_num</th>\n",
       "      <th>sub_grade_num</th>\n",
       "      <th>term_num</th>\n",
       "    </tr>\n",
       "  </thead>\n",
       "  <tbody>\n",
       "    <tr>\n",
       "      <th>0</th>\n",
       "      <td>0</td>\n",
       "      <td>24000.0</td>\n",
       "      <td>27.65</td>\n",
       "      <td>0.0</td>\n",
       "      <td>5000.0</td>\n",
       "      <td>1</td>\n",
       "      <td>861.071414</td>\n",
       "      <td>1.0</td>\n",
       "      <td>1985.0</td>\n",
       "      <td>12</td>\n",
       "      <td>...</td>\n",
       "      <td>0</td>\n",
       "      <td>0</td>\n",
       "      <td>0</td>\n",
       "      <td>0</td>\n",
       "      <td>0</td>\n",
       "      <td>0</td>\n",
       "      <td>0</td>\n",
       "      <td>1</td>\n",
       "      <td>1</td>\n",
       "      <td>36</td>\n",
       "    </tr>\n",
       "    <tr>\n",
       "      <th>1</th>\n",
       "      <td>1</td>\n",
       "      <td>30000.0</td>\n",
       "      <td>1.00</td>\n",
       "      <td>0.0</td>\n",
       "      <td>2500.0</td>\n",
       "      <td>0</td>\n",
       "      <td>-1491.290000</td>\n",
       "      <td>4.0</td>\n",
       "      <td>1999.0</td>\n",
       "      <td>12</td>\n",
       "      <td>...</td>\n",
       "      <td>0</td>\n",
       "      <td>0</td>\n",
       "      <td>0</td>\n",
       "      <td>0</td>\n",
       "      <td>0</td>\n",
       "      <td>0</td>\n",
       "      <td>0</td>\n",
       "      <td>2</td>\n",
       "      <td>2</td>\n",
       "      <td>60</td>\n",
       "    </tr>\n",
       "    <tr>\n",
       "      <th>2</th>\n",
       "      <td>2</td>\n",
       "      <td>12252.0</td>\n",
       "      <td>8.72</td>\n",
       "      <td>0.0</td>\n",
       "      <td>2400.0</td>\n",
       "      <td>1</td>\n",
       "      <td>603.653644</td>\n",
       "      <td>11.0</td>\n",
       "      <td>2001.0</td>\n",
       "      <td>12</td>\n",
       "      <td>...</td>\n",
       "      <td>0</td>\n",
       "      <td>0</td>\n",
       "      <td>0</td>\n",
       "      <td>0</td>\n",
       "      <td>0</td>\n",
       "      <td>0</td>\n",
       "      <td>0</td>\n",
       "      <td>2</td>\n",
       "      <td>2</td>\n",
       "      <td>36</td>\n",
       "    </tr>\n",
       "    <tr>\n",
       "      <th>3</th>\n",
       "      <td>3</td>\n",
       "      <td>49200.0</td>\n",
       "      <td>20.00</td>\n",
       "      <td>0.0</td>\n",
       "      <td>10000.0</td>\n",
       "      <td>1</td>\n",
       "      <td>2226.302212</td>\n",
       "      <td>2.0</td>\n",
       "      <td>1996.0</td>\n",
       "      <td>12</td>\n",
       "      <td>...</td>\n",
       "      <td>0</td>\n",
       "      <td>0</td>\n",
       "      <td>0</td>\n",
       "      <td>0</td>\n",
       "      <td>0</td>\n",
       "      <td>0</td>\n",
       "      <td>0</td>\n",
       "      <td>2</td>\n",
       "      <td>2</td>\n",
       "      <td>36</td>\n",
       "    </tr>\n",
       "    <tr>\n",
       "      <th>4</th>\n",
       "      <td>4</td>\n",
       "      <td>80000.0</td>\n",
       "      <td>17.94</td>\n",
       "      <td>0.0</td>\n",
       "      <td>3000.0</td>\n",
       "      <td>1</td>\n",
       "      <td>242.170000</td>\n",
       "      <td>1.0</td>\n",
       "      <td>1996.0</td>\n",
       "      <td>12</td>\n",
       "      <td>...</td>\n",
       "      <td>0</td>\n",
       "      <td>0</td>\n",
       "      <td>0</td>\n",
       "      <td>0</td>\n",
       "      <td>0</td>\n",
       "      <td>0</td>\n",
       "      <td>0</td>\n",
       "      <td>1</td>\n",
       "      <td>1</td>\n",
       "      <td>60</td>\n",
       "    </tr>\n",
       "  </tbody>\n",
       "</table>\n",
       "<p>5 rows × 34 columns</p>\n",
       "</div>"
      ],
      "text/plain": [
       "   Unnamed: 0  annual_inc    dti  pub_rec  loan_amnt  binary_profit_loss  \\\n",
       "0           0     24000.0  27.65      0.0     5000.0                   1   \n",
       "1           1     30000.0   1.00      0.0     2500.0                   0   \n",
       "2           2     12252.0   8.72      0.0     2400.0                   1   \n",
       "3           3     49200.0  20.00      0.0    10000.0                   1   \n",
       "4           4     80000.0  17.94      0.0     3000.0                   1   \n",
       "\n",
       "   profit_loss  earliest_cr_line_month  earliest_cr_line_year  issue_d_month  \\\n",
       "0   861.071414                     1.0                 1985.0             12   \n",
       "1 -1491.290000                     4.0                 1999.0             12   \n",
       "2   603.653644                    11.0                 2001.0             12   \n",
       "3  2226.302212                     2.0                 1996.0             12   \n",
       "4   242.170000                     1.0                 1996.0             12   \n",
       "\n",
       "     ...     purpose_vacation  purpose_house  purpose_wedding  \\\n",
       "0    ...                    0              0                0   \n",
       "1    ...                    0              0                0   \n",
       "2    ...                    0              0                0   \n",
       "3    ...                    0              0                0   \n",
       "4    ...                    0              0                0   \n",
       "\n",
       "   purpose_renewable_energy  purpose_educational  purpose_IS_OTHER_VALUE  \\\n",
       "0                         0                    0                       0   \n",
       "1                         0                    0                       0   \n",
       "2                         0                    0                       0   \n",
       "3                         0                    0                       0   \n",
       "4                         0                    0                       0   \n",
       "\n",
       "   is_joint  grade_num  sub_grade_num  term_num  \n",
       "0         0          1              1        36  \n",
       "1         0          2              2        60  \n",
       "2         0          2              2        36  \n",
       "3         0          2              2        36  \n",
       "4         0          1              1        60  \n",
       "\n",
       "[5 rows x 34 columns]"
      ]
     },
     "execution_count": 55,
     "metadata": {},
     "output_type": "execute_result"
    }
   ],
   "source": [
    "data.head()"
   ]
  },
  {
   "cell_type": "markdown",
   "metadata": {},
   "source": [
    "# Subset data so i can test quickly"
   ]
  },
  {
   "cell_type": "code",
   "execution_count": 75,
   "metadata": {
    "collapsed": true
   },
   "outputs": [],
   "source": [
    "data_sub = data[:50000]"
   ]
  },
  {
   "cell_type": "code",
   "execution_count": 65,
   "metadata": {
    "collapsed": true
   },
   "outputs": [
    {
     "data": {
      "text/html": [
       "<div>\n",
       "<table border=\"1\" class=\"dataframe\">\n",
       "  <thead>\n",
       "    <tr style=\"text-align: right;\">\n",
       "      <th></th>\n",
       "      <th>Unnamed: 0</th>\n",
       "      <th>annual_inc</th>\n",
       "      <th>dti</th>\n",
       "      <th>pub_rec</th>\n",
       "      <th>loan_amnt</th>\n",
       "      <th>binary_profit_loss</th>\n",
       "      <th>profit_loss</th>\n",
       "      <th>earliest_cr_line_month</th>\n",
       "      <th>earliest_cr_line_year</th>\n",
       "      <th>issue_d_month</th>\n",
       "      <th>...</th>\n",
       "      <th>purpose_vacation</th>\n",
       "      <th>purpose_house</th>\n",
       "      <th>purpose_wedding</th>\n",
       "      <th>purpose_renewable_energy</th>\n",
       "      <th>purpose_educational</th>\n",
       "      <th>purpose_IS_OTHER_VALUE</th>\n",
       "      <th>is_joint</th>\n",
       "      <th>grade_num</th>\n",
       "      <th>sub_grade_num</th>\n",
       "      <th>term_num</th>\n",
       "    </tr>\n",
       "  </thead>\n",
       "  <tbody>\n",
       "    <tr>\n",
       "      <th>0</th>\n",
       "      <td>0</td>\n",
       "      <td>24000.0</td>\n",
       "      <td>27.65</td>\n",
       "      <td>0.0</td>\n",
       "      <td>5000.0</td>\n",
       "      <td>1</td>\n",
       "      <td>861.071414</td>\n",
       "      <td>1.0</td>\n",
       "      <td>1985.0</td>\n",
       "      <td>12</td>\n",
       "      <td>...</td>\n",
       "      <td>0</td>\n",
       "      <td>0</td>\n",
       "      <td>0</td>\n",
       "      <td>0</td>\n",
       "      <td>0</td>\n",
       "      <td>0</td>\n",
       "      <td>0</td>\n",
       "      <td>1</td>\n",
       "      <td>1</td>\n",
       "      <td>36</td>\n",
       "    </tr>\n",
       "  </tbody>\n",
       "</table>\n",
       "<p>1 rows × 34 columns</p>\n",
       "</div>"
      ],
      "text/plain": [
       "   Unnamed: 0  annual_inc    dti  pub_rec  loan_amnt  binary_profit_loss  \\\n",
       "0           0     24000.0  27.65      0.0     5000.0                   1   \n",
       "\n",
       "   profit_loss  earliest_cr_line_month  earliest_cr_line_year  issue_d_month  \\\n",
       "0   861.071414                     1.0                 1985.0             12   \n",
       "\n",
       "     ...     purpose_vacation  purpose_house  purpose_wedding  \\\n",
       "0    ...                    0              0                0   \n",
       "\n",
       "   purpose_renewable_energy  purpose_educational  purpose_IS_OTHER_VALUE  \\\n",
       "0                         0                    0                       0   \n",
       "\n",
       "   is_joint  grade_num  sub_grade_num  term_num  \n",
       "0         0          1              1        36  \n",
       "\n",
       "[1 rows x 34 columns]"
      ]
     },
     "execution_count": 65,
     "metadata": {},
     "output_type": "execute_result"
    }
   ],
   "source": [
    "data_sub.head(1)"
   ]
  },
  {
   "cell_type": "code",
   "execution_count": 149,
   "metadata": {
    "collapsed": false
   },
   "outputs": [],
   "source": [
    "y = data_sub['binary_profit_loss']\n",
    "profit_loss = data_sub['profit_loss']\n",
    "\n",
    "\n",
    "# data_sub_X = data_sub.drop('binary_profit_loss',axis=1)\n",
    "# data_sub_X = data_sub_X.drop('profit_loss',axis=1)\n"
   ]
  },
  {
   "cell_type": "code",
   "execution_count": 66,
   "metadata": {
    "collapsed": true
   },
   "outputs": [
    {
     "data": {
      "text/plain": [
       "Index([u'Unnamed: 0', u'annual_inc', u'dti', u'pub_rec', u'loan_amnt',\n",
       "       u'binary_profit_loss', u'profit_loss', u'earliest_cr_line_month',\n",
       "       u'earliest_cr_line_year', u'issue_d_month', u'issue_d_year',\n",
       "       u'home_ownership_MORTGAGE', u'home_ownership_RENT',\n",
       "       u'home_ownership_OWN', u'home_ownership_IS_OTHER_VALUE',\n",
       "       u'purpose_debt_consolidation', u'purpose_credit_card',\n",
       "       u'purpose_home_improvement', u'purpose_other',\n",
       "       u'purpose_major_purchase', u'purpose_small_business', u'purpose_car',\n",
       "       u'purpose_medical', u'purpose_moving', u'purpose_vacation',\n",
       "       u'purpose_house', u'purpose_wedding', u'purpose_renewable_energy',\n",
       "       u'purpose_educational', u'purpose_IS_OTHER_VALUE', u'is_joint',\n",
       "       u'grade_num', u'sub_grade_num', u'term_num'],\n",
       "      dtype='object')"
      ]
     },
     "execution_count": 66,
     "metadata": {},
     "output_type": "execute_result"
    }
   ],
   "source": [
    "data_sub.columns"
   ]
  },
  {
   "cell_type": "code",
   "execution_count": 77,
   "metadata": {
    "collapsed": false
   },
   "outputs": [],
   "source": [
    "X = data_sub[[u'Unnamed: 0', u'annual_inc', u'dti', u'pub_rec', u'loan_amnt', u'earliest_cr_line_month',\n",
    "       u'earliest_cr_line_year', u'issue_d_month', u'issue_d_year',\n",
    "       u'home_ownership_MORTGAGE', u'home_ownership_RENT',\n",
    "       u'home_ownership_OWN', u'home_ownership_IS_OTHER_VALUE',\n",
    "       u'purpose_debt_consolidation', u'purpose_credit_card',\n",
    "       u'purpose_home_improvement', u'purpose_other',\n",
    "       u'purpose_major_purchase', u'purpose_small_business', u'purpose_car',\n",
    "       u'purpose_medical', u'purpose_moving', u'purpose_vacation',\n",
    "       u'purpose_house', u'purpose_wedding', u'purpose_renewable_energy',\n",
    "       u'purpose_educational', u'purpose_IS_OTHER_VALUE', u'is_joint',\n",
    "       u'grade_num', u'sub_grade_num', u'term_num']]"
   ]
  },
  {
   "cell_type": "code",
   "execution_count": 69,
   "metadata": {
    "collapsed": true
   },
   "outputs": [
    {
     "data": {
      "text/html": [
       "<div>\n",
       "<table border=\"1\" class=\"dataframe\">\n",
       "  <thead>\n",
       "    <tr style=\"text-align: right;\">\n",
       "      <th></th>\n",
       "      <th>Unnamed: 0</th>\n",
       "      <th>annual_inc</th>\n",
       "      <th>dti</th>\n",
       "      <th>pub_rec</th>\n",
       "      <th>loan_amnt</th>\n",
       "      <th>earliest_cr_line_month</th>\n",
       "      <th>earliest_cr_line_year</th>\n",
       "      <th>issue_d_month</th>\n",
       "      <th>issue_d_year</th>\n",
       "      <th>home_ownership_MORTGAGE</th>\n",
       "      <th>...</th>\n",
       "      <th>purpose_vacation</th>\n",
       "      <th>purpose_house</th>\n",
       "      <th>purpose_wedding</th>\n",
       "      <th>purpose_renewable_energy</th>\n",
       "      <th>purpose_educational</th>\n",
       "      <th>purpose_IS_OTHER_VALUE</th>\n",
       "      <th>is_joint</th>\n",
       "      <th>grade_num</th>\n",
       "      <th>sub_grade_num</th>\n",
       "      <th>term_num</th>\n",
       "    </tr>\n",
       "  </thead>\n",
       "  <tbody>\n",
       "    <tr>\n",
       "      <th>0</th>\n",
       "      <td>0</td>\n",
       "      <td>24000.0</td>\n",
       "      <td>27.65</td>\n",
       "      <td>0.0</td>\n",
       "      <td>5000.0</td>\n",
       "      <td>1.0</td>\n",
       "      <td>1985.0</td>\n",
       "      <td>12</td>\n",
       "      <td>2011</td>\n",
       "      <td>0</td>\n",
       "      <td>...</td>\n",
       "      <td>0</td>\n",
       "      <td>0</td>\n",
       "      <td>0</td>\n",
       "      <td>0</td>\n",
       "      <td>0</td>\n",
       "      <td>0</td>\n",
       "      <td>0</td>\n",
       "      <td>1</td>\n",
       "      <td>1</td>\n",
       "      <td>36</td>\n",
       "    </tr>\n",
       "  </tbody>\n",
       "</table>\n",
       "<p>1 rows × 32 columns</p>\n",
       "</div>"
      ],
      "text/plain": [
       "   Unnamed: 0  annual_inc    dti  pub_rec  loan_amnt  earliest_cr_line_month  \\\n",
       "0           0     24000.0  27.65      0.0     5000.0                     1.0   \n",
       "\n",
       "   earliest_cr_line_year  issue_d_month  issue_d_year  \\\n",
       "0                 1985.0             12          2011   \n",
       "\n",
       "   home_ownership_MORTGAGE    ...     purpose_vacation  purpose_house  \\\n",
       "0                        0    ...                    0              0   \n",
       "\n",
       "   purpose_wedding  purpose_renewable_energy  purpose_educational  \\\n",
       "0                0                         0                    0   \n",
       "\n",
       "   purpose_IS_OTHER_VALUE  is_joint  grade_num  sub_grade_num  term_num  \n",
       "0                       0         0          1              1        36  \n",
       "\n",
       "[1 rows x 32 columns]"
      ]
     },
     "execution_count": 69,
     "metadata": {},
     "output_type": "execute_result"
    }
   ],
   "source": [
    "X.head(1)"
   ]
  },
  {
   "cell_type": "code",
   "execution_count": 72,
   "metadata": {
    "collapsed": false
   },
   "outputs": [
    {
     "data": {
      "text/plain": [
       "0    1\n",
       "Name: binary_profit_loss, dtype: int64"
      ]
     },
     "execution_count": 72,
     "metadata": {},
     "output_type": "execute_result"
    }
   ],
   "source": [
    "y.head(1)"
   ]
  },
  {
   "cell_type": "markdown",
   "metadata": {},
   "source": [
    "# Function for thresholding"
   ]
  },
  {
   "cell_type": "code",
   "execution_count": 78,
   "metadata": {
    "collapsed": true
   },
   "outputs": [],
   "source": [
    "def adjust_threshold(thresh,pred_probas):\n",
    "    predictions = []\n",
    "    for pred in pred_probas:\n",
    "        if pred > thresh:\n",
    "            predictions.append(1)\n",
    "        else:\n",
    "            predictions.append(0)\n",
    "    return predictions"
   ]
  },
  {
   "cell_type": "markdown",
   "metadata": {},
   "source": [
    "# Pipeline with gridsearch for random forest\n",
    "\n",
    "need to see about how to incorporate pca"
   ]
  },
  {
   "cell_type": "code",
   "execution_count": 26,
   "metadata": {
    "collapsed": true
   },
   "outputs": [],
   "source": [
    "# Split up the data\n",
    "X_train, X_test, y_train, y_test = sklearn.cross_validation.train_test_split(X, y, test_size=0.33, random_state=42)"
   ]
  },
  {
   "cell_type": "code",
   "execution_count": 43,
   "metadata": {
    "collapsed": false
   },
   "outputs": [
    {
     "name": "stdout",
     "output_type": "stream",
     "text": [
      "             precision    recall  f1-score   support\n",
      "\n",
      "          0       0.63      0.39      0.48      3794\n",
      "          1       0.84      0.93      0.88     12706\n",
      "\n",
      "avg / total       0.79      0.81      0.79     16500\n",
      "\n",
      "\n",
      "             precision    recall  f1-score   support\n",
      "\n",
      "          0       0.49      0.61      0.54      3794\n",
      "          1       0.87      0.81      0.84     12706\n",
      "\n",
      "avg / total       0.79      0.77      0.77     16500\n",
      "\n",
      "\n",
      "Pipeline(steps=[('pca', PCA(copy=True, n_components=30, whiten=False)), ('feature_selection', SelectKBest(k='all', score_func=<function f_classif at 0x116bcfb18>)), ('random_forest', RandomForestClassifier(bootstrap=True, class_weight=None, criterion='gini',\n",
      "            max_depth=None, max_features='auto', m...n_jobs=1,\n",
      "            oob_score=False, random_state=None, verbose=0,\n",
      "            warm_start=False))])\n"
     ]
    }
   ],
   "source": [
    "select = sklearn.feature_selection.SelectKBest(k=5)\n",
    "clf = sklearn.ensemble.RandomForestClassifier()\n",
    "pca = PCA(n_components=20)\n",
    "\n",
    "# Define the steps for the pipeline\n",
    "steps = [('pca', pca),\n",
    "        ('feature_selection', select),\n",
    "        ('random_forest', clf)]\n",
    "\n",
    "# Declare the pipeline\n",
    "pipeline_rf = sklearn.pipeline.Pipeline(steps)\n",
    "\n",
    "# Define grid search parameters for the pipeline (need to match k best to the # of features)\n",
    "# also adjust criterion, max_features\n",
    "### NOTE the number of features in feature_selection ALWAYS has to be greater than the lowest value of \n",
    "### n_components in pca (because n_components is the # of components pca returns from the original set)\n",
    "parameters_rf = dict(pca__n_components=[20,30], \n",
    "                      feature_selection__k=[10,'all'], \n",
    "                      random_forest__n_estimators=[100],\n",
    "                      random_forest__min_samples_split=[10])\n",
    "\n",
    "# perform the gridsearch with the pipelined model\n",
    "model_rf = sklearn.grid_search.GridSearchCV(pipeline_rf, param_grid=parameters_rf)\n",
    "\n",
    "model_rf.fit(X_train, y_train)\n",
    "\n",
    "preds_probas = model_rf.predict_proba(X_test)\n",
    "raw_preds = model_rf.predict(X_test)\n",
    "\n",
    "# do thresholding here\n",
    "thresh = 0.7\n",
    "thresh_preds = adjust_threshold(thresh, preds_probas[:,1])\n",
    "\n",
    "report_default = sklearn.metrics.classification_report(y_test, raw_preds)\n",
    "report_custom = sklearn.metrics.classification_report(y_test,thresh_preds)\n",
    "\n",
    "print report_default\n",
    "print\n",
    "print report_custom\n",
    "print\n",
    "print model_rf.best_estimator_"
   ]
  },
  {
   "cell_type": "markdown",
   "metadata": {},
   "source": [
    "# Save this model for now"
   ]
  },
  {
   "cell_type": "code",
   "execution_count": 168,
   "metadata": {
    "collapsed": false,
    "scrolled": true
   },
   "outputs": [],
   "source": [
    "import pickle\n",
    "s = pickle.dumps(model_rf)\n",
    "\n",
    "with open('model_rf.pkl', 'wb') as output:\n",
    "        pickle.dump(model_rf, output, pickle.HIGHEST_PROTOCOL)"
   ]
  },
  {
   "cell_type": "markdown",
   "metadata": {},
   "source": [
    "# Sum the profit_loss of the predictions \n",
    "\n",
    "y_test, thresh_preds, profit_loss"
   ]
  },
  {
   "cell_type": "code",
   "execution_count": 153,
   "metadata": {
    "collapsed": true
   },
   "outputs": [],
   "source": [
    "thresholds = np.arange(0.1,1,0.05)\n",
    "\n",
    "threshold_good_loans_dict = {}\n",
    "threshold_bad_loans_dict = {}\n",
    "\n",
    "\n",
    "for thresh in thresholds:\n",
    "    # turn y_test into a dataframe\n",
    "    y_frame = y_test.to_frame()\n",
    "    \n",
    "    # turn profit loss into a dataframe\n",
    "    profit_loss_frame = profit_loss.to_frame()\n",
    "    \n",
    "    # add the adjusted probabilites to the data frame\n",
    "    y_frame['pred'] = adjust_threshold(thresh,preds_probas[:,1])\n",
    "    \n",
    "    # join with profit loss frame\n",
    "    loan_res = y_frame.join(profit_loss_frame)\n",
    "    \n",
    "    # group by the prediction\n",
    "    pred_grouped = loan_res.groupby('pred')\n",
    "    \n",
    "    # get the sum\n",
    "    earning_results = pred_grouped['profit_loss'].sum()\n",
    "    \n",
    "    # store total earnings for loans identified as \"good\" by our model\n",
    "    threshold_good_loans_dict[thresh] = earning_results[1]\n",
    "    \n",
    "    # store total earnings for loans identified as \"bad\" by our model\n",
    "    # at thresholds < 0.1 the model basically goes for everything so this wont exist\n",
    "    threshold_bad_loans_dict[thresh] = earning_results[0]"
   ]
  },
  {
   "cell_type": "code",
   "execution_count": 155,
   "metadata": {
    "collapsed": true
   },
   "outputs": [],
   "source": [
    "from collections import OrderedDict"
   ]
  },
  {
   "cell_type": "code",
   "execution_count": 158,
   "metadata": {
    "collapsed": false
   },
   "outputs": [],
   "source": [
    "ordered_earnings_good_loans = OrderedDict(sorted(threshold_good_loans_dict.items(), key=lambda t: t[1],reverse=True))"
   ]
  },
  {
   "cell_type": "code",
   "execution_count": 160,
   "metadata": {
    "collapsed": true
   },
   "outputs": [
    {
     "data": {
      "text/plain": [
       "OrderedDict([(0.65000000000000013, 12103192.04653549),\n",
       "             (0.6000000000000002, 12041134.154203905),\n",
       "             (0.55000000000000016, 11924952.589023583),\n",
       "             (0.50000000000000011, 11320099.695107173),\n",
       "             (0.70000000000000018, 11317816.728815975),\n",
       "             (0.45000000000000007, 10699654.788701816),\n",
       "             (0.75000000000000022, 10174061.935833398),\n",
       "             (0.40000000000000013, 9980315.8212997839),\n",
       "             (0.35000000000000009, 9110031.3348827679),\n",
       "             (0.80000000000000016, 8628229.5334734675),\n",
       "             (0.30000000000000004, 8042690.254342759),\n",
       "             (0.25000000000000006, 7144812.9563669376),\n",
       "             (0.20000000000000004, 6487101.2699001022),\n",
       "             (0.8500000000000002, 6463905.2471223781),\n",
       "             (0.15000000000000002, 6011188.7416912047),\n",
       "             (0.10000000000000001, 5686217.9785434911),\n",
       "             (0.90000000000000024, 3871274.3527086861),\n",
       "             (0.95000000000000029, 1178481.5780311094)])"
      ]
     },
     "execution_count": 160,
     "metadata": {},
     "output_type": "execute_result"
    }
   ],
   "source": [
    "ordered_earnings_good_loans"
   ]
  },
  {
   "cell_type": "markdown",
   "metadata": {},
   "source": [
    "## Will need to be able to get the maximum expected profit on loans given a certain number of loans or a certain max investment"
   ]
  },
  {
   "cell_type": "markdown",
   "metadata": {},
   "source": [
    "# Logistic Regression Pipeline and grid-search"
   ]
  },
  {
   "cell_type": "code",
   "execution_count": null,
   "metadata": {
    "collapsed": true
   },
   "outputs": [],
   "source": []
  }
 ],
 "metadata": {
  "kernelspec": {
   "display_name": "Python 2",
   "language": "python",
   "name": "python2"
  },
  "language_info": {
   "codemirror_mode": {
    "name": "ipython",
    "version": 2
   },
   "file_extension": ".py",
   "mimetype": "text/x-python",
   "name": "python",
   "nbconvert_exporter": "python",
   "pygments_lexer": "ipython2",
   "version": "2.7.11"
  }
 },
 "nbformat": 4,
 "nbformat_minor": 0
}
