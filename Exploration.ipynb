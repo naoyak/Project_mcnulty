{
 "cells": [
  {
   "cell_type": "markdown",
   "metadata": {},
   "source": [
    "# Project Mcnulty:\n",
    "\n",
    "### Starting to explore the data"
   ]
  },
  {
   "cell_type": "code",
   "execution_count": 1,
   "metadata": {
    "collapsed": true
   },
   "outputs": [],
   "source": [
    "import pandas as pd\n",
    "import numpy as np\n",
    "import sqlite3"
   ]
  },
  {
   "cell_type": "code",
   "execution_count": 2,
   "metadata": {
    "collapsed": false
   },
   "outputs": [
    {
     "name": "stderr",
     "output_type": "stream",
     "text": [
      "/Users/williamcosby/anaconda/lib/python2.7/site-packages/IPython/core/interactiveshell.py:2723: DtypeWarning: Columns (19,55) have mixed types. Specify dtype option on import or set low_memory=False.\n",
      "  interactivity=interactivity, compiler=compiler, result=result)\n"
     ]
    }
   ],
   "source": [
    "loan_df = pd.read_csv(\"data/loan.csv\")"
   ]
  },
  {
   "cell_type": "code",
   "execution_count": 3,
   "metadata": {
    "collapsed": false
   },
   "outputs": [
    {
     "name": "stdout",
     "output_type": "stream",
     "text": [
      "<class 'pandas.core.frame.DataFrame'>\n",
      "RangeIndex: 887379 entries, 0 to 887378\n",
      "Data columns (total 74 columns):\n",
      "id                             887379 non-null int64\n",
      "member_id                      887379 non-null int64\n",
      "loan_amnt                      887379 non-null float64\n",
      "funded_amnt                    887379 non-null float64\n",
      "funded_amnt_inv                887379 non-null float64\n",
      "term                           887379 non-null object\n",
      "int_rate                       887379 non-null float64\n",
      "installment                    887379 non-null float64\n",
      "grade                          887379 non-null object\n",
      "sub_grade                      887379 non-null object\n",
      "emp_title                      835922 non-null object\n",
      "emp_length                     887379 non-null object\n",
      "home_ownership                 887379 non-null object\n",
      "annual_inc                     887375 non-null float64\n",
      "verification_status            887379 non-null object\n",
      "issue_d                        887379 non-null object\n",
      "loan_status                    887379 non-null object\n",
      "pymnt_plan                     887379 non-null object\n",
      "url                            887379 non-null object\n",
      "desc                           126029 non-null object\n",
      "purpose                        887379 non-null object\n",
      "title                          887228 non-null object\n",
      "zip_code                       887379 non-null object\n",
      "addr_state                     887379 non-null object\n",
      "dti                            887379 non-null float64\n",
      "delinq_2yrs                    887350 non-null float64\n",
      "earliest_cr_line               887350 non-null object\n",
      "inq_last_6mths                 887350 non-null float64\n",
      "mths_since_last_delinq         433067 non-null float64\n",
      "mths_since_last_record         137053 non-null float64\n",
      "open_acc                       887350 non-null float64\n",
      "pub_rec                        887350 non-null float64\n",
      "revol_bal                      887379 non-null float64\n",
      "revol_util                     886877 non-null float64\n",
      "total_acc                      887350 non-null float64\n",
      "initial_list_status            887379 non-null object\n",
      "out_prncp                      887379 non-null float64\n",
      "out_prncp_inv                  887379 non-null float64\n",
      "total_pymnt                    887379 non-null float64\n",
      "total_pymnt_inv                887379 non-null float64\n",
      "total_rec_prncp                887379 non-null float64\n",
      "total_rec_int                  887379 non-null float64\n",
      "total_rec_late_fee             887379 non-null float64\n",
      "recoveries                     887379 non-null float64\n",
      "collection_recovery_fee        887379 non-null float64\n",
      "last_pymnt_d                   869720 non-null object\n",
      "last_pymnt_amnt                887379 non-null float64\n",
      "next_pymnt_d                   634408 non-null object\n",
      "last_credit_pull_d             887326 non-null object\n",
      "collections_12_mths_ex_med     887234 non-null float64\n",
      "mths_since_last_major_derog    221703 non-null float64\n",
      "policy_code                    887379 non-null float64\n",
      "application_type               887379 non-null object\n",
      "annual_inc_joint               511 non-null float64\n",
      "dti_joint                      509 non-null float64\n",
      "verification_status_joint      511 non-null object\n",
      "acc_now_delinq                 887350 non-null float64\n",
      "tot_coll_amt                   817103 non-null float64\n",
      "tot_cur_bal                    817103 non-null float64\n",
      "open_acc_6m                    21372 non-null float64\n",
      "open_il_6m                     21372 non-null float64\n",
      "open_il_12m                    21372 non-null float64\n",
      "open_il_24m                    21372 non-null float64\n",
      "mths_since_rcnt_il             20810 non-null float64\n",
      "total_bal_il                   21372 non-null float64\n",
      "il_util                        18617 non-null float64\n",
      "open_rv_12m                    21372 non-null float64\n",
      "open_rv_24m                    21372 non-null float64\n",
      "max_bal_bc                     21372 non-null float64\n",
      "all_util                       21372 non-null float64\n",
      "total_rev_hi_lim               817103 non-null float64\n",
      "inq_fi                         21372 non-null float64\n",
      "total_cu_tl                    21372 non-null float64\n",
      "inq_last_12m                   21372 non-null float64\n",
      "dtypes: float64(49), int64(2), object(23)\n",
      "memory usage: 501.0+ MB\n"
     ]
    }
   ],
   "source": [
    "loan_df.info()"
   ]
  },
  {
   "cell_type": "markdown",
   "metadata": {},
   "source": [
    "# Using SQLite"
   ]
  },
  {
   "cell_type": "code",
   "execution_count": 9,
   "metadata": {
    "collapsed": true
   },
   "outputs": [],
   "source": [
    "con = sqlite3.connect('data/database.sqlite')"
   ]
  },
  {
   "cell_type": "code",
   "execution_count": 10,
   "metadata": {
    "collapsed": false
   },
   "outputs": [
    {
     "name": "stdout",
     "output_type": "stream",
     "text": [
      "   index       id  member_id  loan_amnt  funded_amnt  funded_amnt_inv  \\\n",
      "0      0  1077501  1296599.0     5000.0       5000.0           4975.0   \n",
      "1      1  1077430  1314167.0     2500.0       2500.0           2500.0   \n",
      "2      2  1077175  1313524.0     2400.0       2400.0           2400.0   \n",
      "3      3  1076863  1277178.0    10000.0      10000.0          10000.0   \n",
      "4      4  1075358  1311748.0     3000.0       3000.0           3000.0   \n",
      "\n",
      "         term int_rate  installment grade     ...      total_bal_il il_util  \\\n",
      "0   36 months   10.65%       162.87     B     ...               NaN     NaN   \n",
      "1   60 months   15.27%        59.83     C     ...               NaN     NaN   \n",
      "2   36 months   15.96%        84.33     C     ...               NaN     NaN   \n",
      "3   36 months   13.49%       339.31     C     ...               NaN     NaN   \n",
      "4   60 months   12.69%        67.79     B     ...               NaN     NaN   \n",
      "\n",
      "  open_rv_12m open_rv_24m  max_bal_bc all_util total_rev_hi_lim inq_fi  \\\n",
      "0         NaN         NaN         NaN      NaN              NaN    NaN   \n",
      "1         NaN         NaN         NaN      NaN              NaN    NaN   \n",
      "2         NaN         NaN         NaN      NaN              NaN    NaN   \n",
      "3         NaN         NaN         NaN      NaN              NaN    NaN   \n",
      "4         NaN         NaN         NaN      NaN              NaN    NaN   \n",
      "\n",
      "  total_cu_tl inq_last_12m  \n",
      "0         NaN          NaN  \n",
      "1         NaN          NaN  \n",
      "2         NaN          NaN  \n",
      "3         NaN          NaN  \n",
      "4         NaN          NaN  \n",
      "\n",
      "[5 rows x 75 columns]\n"
     ]
    }
   ],
   "source": [
    "loans = pd.read_sql_query(\"select * from loan;\", con)\n",
    "print(loans.head())"
   ]
  },
  {
   "cell_type": "code",
   "execution_count": 11,
   "metadata": {
    "collapsed": false
   },
   "outputs": [
    {
     "data": {
      "text/plain": [
       "Index([u'index', u'id', u'member_id', u'loan_amnt', u'funded_amnt',\n",
       "       u'funded_amnt_inv', u'term', u'int_rate', u'installment', u'grade',\n",
       "       u'sub_grade', u'emp_title', u'emp_length', u'home_ownership',\n",
       "       u'annual_inc', u'verification_status', u'issue_d', u'loan_status',\n",
       "       u'pymnt_plan', u'url', u'desc', u'purpose', u'title', u'zip_code',\n",
       "       u'addr_state', u'dti', u'delinq_2yrs', u'earliest_cr_line',\n",
       "       u'inq_last_6mths', u'mths_since_last_delinq', u'mths_since_last_record',\n",
       "       u'open_acc', u'pub_rec', u'revol_bal', u'revol_util', u'total_acc',\n",
       "       u'initial_list_status', u'out_prncp', u'out_prncp_inv', u'total_pymnt',\n",
       "       u'total_pymnt_inv', u'total_rec_prncp', u'total_rec_int',\n",
       "       u'total_rec_late_fee', u'recoveries', u'collection_recovery_fee',\n",
       "       u'last_pymnt_d', u'last_pymnt_amnt', u'next_pymnt_d',\n",
       "       u'last_credit_pull_d', u'collections_12_mths_ex_med',\n",
       "       u'mths_since_last_major_derog', u'policy_code', u'application_type',\n",
       "       u'annual_inc_joint', u'dti_joint', u'verification_status_joint',\n",
       "       u'acc_now_delinq', u'tot_coll_amt', u'tot_cur_bal', u'open_acc_6m',\n",
       "       u'open_il_6m', u'open_il_12m', u'open_il_24m', u'mths_since_rcnt_il',\n",
       "       u'total_bal_il', u'il_util', u'open_rv_12m', u'open_rv_24m',\n",
       "       u'max_bal_bc', u'all_util', u'total_rev_hi_lim', u'inq_fi',\n",
       "       u'total_cu_tl', u'inq_last_12m'],\n",
       "      dtype='object')"
      ]
     },
     "execution_count": 11,
     "metadata": {},
     "output_type": "execute_result"
    }
   ],
   "source": [
    "loans.columns"
   ]
  },
  {
   "cell_type": "markdown",
   "metadata": {},
   "source": [
    "# Drop columns with lots of missing variables"
   ]
  },
  {
   "cell_type": "code",
   "execution_count": 12,
   "metadata": {
    "collapsed": true
   },
   "outputs": [],
   "source": [
    "columns = []\n",
    "for column in loans.columns:\n",
    "    if loans[column].count() > 800000:\n",
    "        columns.append(column)\n",
    "loans = loans[columns]"
   ]
  },
  {
   "cell_type": "code",
   "execution_count": 13,
   "metadata": {
    "collapsed": false
   },
   "outputs": [
    {
     "data": {
      "text/plain": [
       "53"
      ]
     },
     "execution_count": 13,
     "metadata": {},
     "output_type": "execute_result"
    }
   ],
   "source": [
    "len(loans.columns)"
   ]
  },
  {
   "cell_type": "code",
   "execution_count": 21,
   "metadata": {
    "collapsed": false
   },
   "outputs": [
    {
     "data": {
      "text/plain": [
       "0     861.07\n",
       "1     435.17\n",
       "2     603.65\n",
       "3    2209.33\n",
       "4    1009.07\n",
       "5     631.38\n",
       "6    3025.99\n",
       "7     938.14\n",
       "8     294.94\n",
       "9     533.42\n",
       "Name: total_rec_int, dtype: float64"
      ]
     },
     "execution_count": 21,
     "metadata": {},
     "output_type": "execute_result"
    }
   ],
   "source": [
    "loans['total_rec_int'].head(10)"
   ]
  },
  {
   "cell_type": "markdown",
   "metadata": {},
   "source": [
    "# classify loans\n",
    "\n",
    "## loan_status gives current status of the loan:\n",
    "\n",
    "### Values are:\n",
    "* Current\n",
    "* Fully Paid\n",
    "* Late (16-30 days)\n",
    "* Late (31-120 days)\n",
    "* In Grace Period\n",
    "* Charged Off\n",
    "* Default\n",
    "* nan\n"
   ]
  },
  {
   "cell_type": "code",
   "execution_count": 119,
   "metadata": {
    "collapsed": false
   },
   "outputs": [],
   "source": [
    "loans['loan_status'].unique()\n",
    "loans['loan_status'].replace(['Fully Paid','Current',\n",
    "                              'Does not meet the credit policy. Status:Fully Paid'], \n",
    "                             value=1,inplace=True)\n",
    "\n",
    "loans['loan_status'].replace(['Charged Off', 'In Grace Period','Default','Late (31-120 days)','Late (16-30 days)',\n",
    "                             'Does not meet the credit policy. Status:Charged Off'], \n",
    "                             value=0,inplace='True')\n",
    "\n",
    "loans = loans[(loans['loan_status'] == 0) | (loans['loan_status'] == 1)]\n",
    "# loans = loans[loans['loan_status'] != 'Issued']"
   ]
  },
  {
   "cell_type": "code",
   "execution_count": 138,
   "metadata": {
    "collapsed": false
   },
   "outputs": [],
   "source": [
    "loans['loan_status'] = pd.to_numeric(loans['loan_status'])"
   ]
  },
  {
   "cell_type": "markdown",
   "metadata": {},
   "source": [
    "# Build an initial model (somehow)"
   ]
  },
  {
   "cell_type": "code",
   "execution_count": 139,
   "metadata": {
    "collapsed": false
   },
   "outputs": [],
   "source": [
    "numerics = ['int16', 'int32', 'int64', 'float16', 'float32', 'float64']\n",
    "loans_numeric = loans.select_dtypes(include=numerics)"
   ]
  },
  {
   "cell_type": "code",
   "execution_count": 147,
   "metadata": {
    "collapsed": false,
    "scrolled": true
   },
   "outputs": [
    {
     "name": "stdout",
     "output_type": "stream",
     "text": [
      "<class 'pandas.core.frame.DataFrame'>\n",
      "Int64Index: 808646 entries, 42536 to 887382\n",
      "Data columns (total 31 columns):\n",
      "index                         808646 non-null int64\n",
      "member_id                     808646 non-null float64\n",
      "loan_amnt                     808646 non-null float64\n",
      "funded_amnt                   808646 non-null float64\n",
      "funded_amnt_inv               808646 non-null float64\n",
      "installment                   808646 non-null float64\n",
      "annual_inc                    808646 non-null float64\n",
      "loan_status                   808646 non-null int64\n",
      "dti                           808646 non-null float64\n",
      "delinq_2yrs                   808646 non-null float64\n",
      "inq_last_6mths                808646 non-null float64\n",
      "open_acc                      808646 non-null float64\n",
      "pub_rec                       808646 non-null float64\n",
      "revol_bal                     808646 non-null float64\n",
      "total_acc                     808646 non-null float64\n",
      "out_prncp                     808646 non-null float64\n",
      "out_prncp_inv                 808646 non-null float64\n",
      "total_pymnt                   808646 non-null float64\n",
      "total_pymnt_inv               808646 non-null float64\n",
      "total_rec_prncp               808646 non-null float64\n",
      "total_rec_int                 808646 non-null float64\n",
      "total_rec_late_fee            808646 non-null float64\n",
      "recoveries                    808646 non-null float64\n",
      "collection_recovery_fee       808646 non-null float64\n",
      "last_pymnt_amnt               808646 non-null float64\n",
      "collections_12_mths_ex_med    808646 non-null float64\n",
      "policy_code                   808646 non-null float64\n",
      "acc_now_delinq                808646 non-null float64\n",
      "tot_coll_amt                  808646 non-null float64\n",
      "tot_cur_bal                   808646 non-null float64\n",
      "total_rev_hi_lim              808646 non-null float64\n",
      "dtypes: float64(29), int64(2)\n",
      "memory usage: 197.4 MB\n"
     ]
    }
   ],
   "source": [
    "loans_numeric.info()"
   ]
  },
  {
   "cell_type": "markdown",
   "metadata": {},
   "source": [
    "## Drop all with missing values"
   ]
  },
  {
   "cell_type": "code",
   "execution_count": 141,
   "metadata": {
    "collapsed": false
   },
   "outputs": [
    {
     "name": "stderr",
     "output_type": "stream",
     "text": [
      "/Users/williamcosby/anaconda/envs/data/lib/python2.7/site-packages/ipykernel/__main__.py:1: SettingWithCopyWarning: \n",
      "A value is trying to be set on a copy of a slice from a DataFrame\n",
      "\n",
      "See the caveats in the documentation: http://pandas.pydata.org/pandas-docs/stable/indexing.html#indexing-view-versus-copy\n",
      "  if __name__ == '__main__':\n"
     ]
    }
   ],
   "source": [
    "loans_numeric.dropna(inplace=True)"
   ]
  },
  {
   "cell_type": "code",
   "execution_count": 142,
   "metadata": {
    "collapsed": true
   },
   "outputs": [],
   "source": [
    "from sklearn.cross_validation import train_test_split\n",
    "from sklearn.ensemble import RandomForestClassifier, GradientBoostingClassifier\n",
    "from sklearn.linear_model import LogisticRegression\n",
    "from sklearn.metrics import roc_auc_score"
   ]
  },
  {
   "cell_type": "code",
   "execution_count": 148,
   "metadata": {
    "collapsed": false
   },
   "outputs": [],
   "source": [
    "y = loans_numeric['loan_status']"
   ]
  },
  {
   "cell_type": "code",
   "execution_count": 144,
   "metadata": {
    "collapsed": false
   },
   "outputs": [],
   "source": [
    "# loans_x = loans_numeric.drop(['loan_status'],axis=1)"
   ]
  },
  {
   "cell_type": "code",
   "execution_count": 162,
   "metadata": {
    "collapsed": false
   },
   "outputs": [],
   "source": [
    "X = loans_numeric"
   ]
  },
  {
   "cell_type": "code",
   "execution_count": 163,
   "metadata": {
    "collapsed": false
   },
   "outputs": [
    {
     "data": {
      "text/plain": [
       "Index([u'index', u'member_id', u'loan_amnt', u'funded_amnt',\n",
       "       u'funded_amnt_inv', u'installment', u'annual_inc', u'dti',\n",
       "       u'delinq_2yrs', u'inq_last_6mths', u'open_acc', u'pub_rec',\n",
       "       u'revol_bal', u'total_acc', u'out_prncp', u'out_prncp_inv',\n",
       "       u'total_pymnt', u'total_pymnt_inv', u'total_rec_prncp',\n",
       "       u'total_rec_int', u'total_rec_late_fee', u'recoveries',\n",
       "       u'collection_recovery_fee', u'last_pymnt_amnt',\n",
       "       u'collections_12_mths_ex_med', u'policy_code', u'acc_now_delinq',\n",
       "       u'tot_coll_amt', u'tot_cur_bal', u'total_rev_hi_lim'],\n",
       "      dtype='object')"
      ]
     },
     "execution_count": 163,
     "metadata": {},
     "output_type": "execute_result"
    }
   ],
   "source": [
    "X.columns"
   ]
  },
  {
   "cell_type": "code",
   "execution_count": 164,
   "metadata": {
    "collapsed": false
   },
   "outputs": [],
   "source": [
    "X_train, X_test, y_train, y_test = train_test_split(X, y, test_size=0.3, random_state=42)"
   ]
  },
  {
   "cell_type": "code",
   "execution_count": 165,
   "metadata": {
    "collapsed": false
   },
   "outputs": [
    {
     "data": {
      "text/html": [
       "<div>\n",
       "<table border=\"1\" class=\"dataframe\">\n",
       "  <thead>\n",
       "    <tr style=\"text-align: right;\">\n",
       "      <th></th>\n",
       "      <th>index</th>\n",
       "      <th>member_id</th>\n",
       "      <th>loan_amnt</th>\n",
       "      <th>funded_amnt</th>\n",
       "      <th>funded_amnt_inv</th>\n",
       "      <th>installment</th>\n",
       "      <th>annual_inc</th>\n",
       "      <th>dti</th>\n",
       "      <th>delinq_2yrs</th>\n",
       "      <th>inq_last_6mths</th>\n",
       "      <th>...</th>\n",
       "      <th>total_rec_late_fee</th>\n",
       "      <th>recoveries</th>\n",
       "      <th>collection_recovery_fee</th>\n",
       "      <th>last_pymnt_amnt</th>\n",
       "      <th>collections_12_mths_ex_med</th>\n",
       "      <th>policy_code</th>\n",
       "      <th>acc_now_delinq</th>\n",
       "      <th>tot_coll_amt</th>\n",
       "      <th>tot_cur_bal</th>\n",
       "      <th>total_rev_hi_lim</th>\n",
       "    </tr>\n",
       "  </thead>\n",
       "  <tbody>\n",
       "    <tr>\n",
       "      <th>562586</th>\n",
       "      <td>96298</td>\n",
       "      <td>67399945.0</td>\n",
       "      <td>28000.0</td>\n",
       "      <td>28000.0</td>\n",
       "      <td>27975.0</td>\n",
       "      <td>992.02</td>\n",
       "      <td>75000.0</td>\n",
       "      <td>27.43</td>\n",
       "      <td>2.0</td>\n",
       "      <td>0.0</td>\n",
       "      <td>...</td>\n",
       "      <td>0.0</td>\n",
       "      <td>0.0</td>\n",
       "      <td>0.0</td>\n",
       "      <td>992.02</td>\n",
       "      <td>0.0</td>\n",
       "      <td>1.0</td>\n",
       "      <td>0.0</td>\n",
       "      <td>0.0</td>\n",
       "      <td>524644.0</td>\n",
       "      <td>33400.0</td>\n",
       "    </tr>\n",
       "    <tr>\n",
       "      <th>744710</th>\n",
       "      <td>278422</td>\n",
       "      <td>52931852.0</td>\n",
       "      <td>16000.0</td>\n",
       "      <td>16000.0</td>\n",
       "      <td>16000.0</td>\n",
       "      <td>495.94</td>\n",
       "      <td>120000.0</td>\n",
       "      <td>17.12</td>\n",
       "      <td>0.0</td>\n",
       "      <td>1.0</td>\n",
       "      <td>...</td>\n",
       "      <td>0.0</td>\n",
       "      <td>0.0</td>\n",
       "      <td>0.0</td>\n",
       "      <td>495.94</td>\n",
       "      <td>0.0</td>\n",
       "      <td>1.0</td>\n",
       "      <td>0.0</td>\n",
       "      <td>0.0</td>\n",
       "      <td>220962.0</td>\n",
       "      <td>54400.0</td>\n",
       "    </tr>\n",
       "    <tr>\n",
       "      <th>573630</th>\n",
       "      <td>107342</td>\n",
       "      <td>64688118.0</td>\n",
       "      <td>12000.0</td>\n",
       "      <td>12000.0</td>\n",
       "      <td>12000.0</td>\n",
       "      <td>392.81</td>\n",
       "      <td>80000.0</td>\n",
       "      <td>31.03</td>\n",
       "      <td>3.0</td>\n",
       "      <td>0.0</td>\n",
       "      <td>...</td>\n",
       "      <td>0.0</td>\n",
       "      <td>0.0</td>\n",
       "      <td>0.0</td>\n",
       "      <td>392.81</td>\n",
       "      <td>0.0</td>\n",
       "      <td>1.0</td>\n",
       "      <td>1.0</td>\n",
       "      <td>0.0</td>\n",
       "      <td>85012.0</td>\n",
       "      <td>45000.0</td>\n",
       "    </tr>\n",
       "    <tr>\n",
       "      <th>47542</th>\n",
       "      <td>5006</td>\n",
       "      <td>11507002.0</td>\n",
       "      <td>30000.0</td>\n",
       "      <td>30000.0</td>\n",
       "      <td>30000.0</td>\n",
       "      <td>952.60</td>\n",
       "      <td>240000.0</td>\n",
       "      <td>13.05</td>\n",
       "      <td>0.0</td>\n",
       "      <td>1.0</td>\n",
       "      <td>...</td>\n",
       "      <td>0.0</td>\n",
       "      <td>0.0</td>\n",
       "      <td>0.0</td>\n",
       "      <td>952.60</td>\n",
       "      <td>0.0</td>\n",
       "      <td>1.0</td>\n",
       "      <td>0.0</td>\n",
       "      <td>0.0</td>\n",
       "      <td>755822.0</td>\n",
       "      <td>52900.0</td>\n",
       "    </tr>\n",
       "    <tr>\n",
       "      <th>125031</th>\n",
       "      <td>82495</td>\n",
       "      <td>4381597.0</td>\n",
       "      <td>33425.0</td>\n",
       "      <td>33425.0</td>\n",
       "      <td>33425.0</td>\n",
       "      <td>835.56</td>\n",
       "      <td>75000.0</td>\n",
       "      <td>22.24</td>\n",
       "      <td>0.0</td>\n",
       "      <td>0.0</td>\n",
       "      <td>...</td>\n",
       "      <td>0.0</td>\n",
       "      <td>0.0</td>\n",
       "      <td>0.0</td>\n",
       "      <td>835.56</td>\n",
       "      <td>0.0</td>\n",
       "      <td>1.0</td>\n",
       "      <td>0.0</td>\n",
       "      <td>0.0</td>\n",
       "      <td>143644.0</td>\n",
       "      <td>63500.0</td>\n",
       "    </tr>\n",
       "  </tbody>\n",
       "</table>\n",
       "<p>5 rows × 30 columns</p>\n",
       "</div>"
      ],
      "text/plain": [
       "         index   member_id  loan_amnt  funded_amnt  funded_amnt_inv  \\\n",
       "562586   96298  67399945.0    28000.0      28000.0          27975.0   \n",
       "744710  278422  52931852.0    16000.0      16000.0          16000.0   \n",
       "573630  107342  64688118.0    12000.0      12000.0          12000.0   \n",
       "47542     5006  11507002.0    30000.0      30000.0          30000.0   \n",
       "125031   82495   4381597.0    33425.0      33425.0          33425.0   \n",
       "\n",
       "        installment  annual_inc    dti  delinq_2yrs  inq_last_6mths  \\\n",
       "562586       992.02     75000.0  27.43          2.0             0.0   \n",
       "744710       495.94    120000.0  17.12          0.0             1.0   \n",
       "573630       392.81     80000.0  31.03          3.0             0.0   \n",
       "47542        952.60    240000.0  13.05          0.0             1.0   \n",
       "125031       835.56     75000.0  22.24          0.0             0.0   \n",
       "\n",
       "              ...         total_rec_late_fee  recoveries  \\\n",
       "562586        ...                        0.0         0.0   \n",
       "744710        ...                        0.0         0.0   \n",
       "573630        ...                        0.0         0.0   \n",
       "47542         ...                        0.0         0.0   \n",
       "125031        ...                        0.0         0.0   \n",
       "\n",
       "        collection_recovery_fee  last_pymnt_amnt  collections_12_mths_ex_med  \\\n",
       "562586                      0.0           992.02                         0.0   \n",
       "744710                      0.0           495.94                         0.0   \n",
       "573630                      0.0           392.81                         0.0   \n",
       "47542                       0.0           952.60                         0.0   \n",
       "125031                      0.0           835.56                         0.0   \n",
       "\n",
       "        policy_code  acc_now_delinq  tot_coll_amt  tot_cur_bal  \\\n",
       "562586          1.0             0.0           0.0     524644.0   \n",
       "744710          1.0             0.0           0.0     220962.0   \n",
       "573630          1.0             1.0           0.0      85012.0   \n",
       "47542           1.0             0.0           0.0     755822.0   \n",
       "125031          1.0             0.0           0.0     143644.0   \n",
       "\n",
       "        total_rev_hi_lim  \n",
       "562586           33400.0  \n",
       "744710           54400.0  \n",
       "573630           45000.0  \n",
       "47542            52900.0  \n",
       "125031           63500.0  \n",
       "\n",
       "[5 rows x 30 columns]"
      ]
     },
     "execution_count": 165,
     "metadata": {},
     "output_type": "execute_result"
    }
   ],
   "source": [
    "X_train.head()"
   ]
  },
  {
   "cell_type": "code",
   "execution_count": 166,
   "metadata": {
    "collapsed": false
   },
   "outputs": [],
   "source": [
    "random_forest = RandomForestClassifier(n_estimators=500,random_state=42, max_depth=10)\n",
    "random_forest = random_forest.fit(X_train, y_train)"
   ]
  },
  {
   "cell_type": "code",
   "execution_count": 167,
   "metadata": {
    "collapsed": false
   },
   "outputs": [
    {
     "data": {
      "text/plain": [
       "0.97339587953535534"
      ]
     },
     "execution_count": 167,
     "metadata": {},
     "output_type": "execute_result"
    }
   ],
   "source": [
    "random_forest.score(X_test,y_test)"
   ]
  },
  {
   "cell_type": "code",
   "execution_count": 172,
   "metadata": {
    "collapsed": false
   },
   "outputs": [
    {
     "data": {
      "text/plain": [
       "[('recoveries', 0.19229317668207396),\n",
       " ('collection_recovery_fee', 0.14149982761996219),\n",
       " ('total_rec_prncp', 0.11477032851975925),\n",
       " ('last_pymnt_amnt', 0.09176722376090321),\n",
       " ('out_prncp', 0.077945827283388808),\n",
       " ('out_prncp_inv', 0.077025118645434279),\n",
       " ('total_pymnt_inv', 0.049966214461567453),\n",
       " ('total_pymnt', 0.044204368792712077),\n",
       " ('loan_amnt', 0.033027264563106798),\n",
       " ('funded_amnt_inv', 0.032596412583618777),\n",
       " ('funded_amnt', 0.032331266578402677),\n",
       " ('installment', 0.031511495529935214),\n",
       " ('total_rec_late_fee', 0.028736634896624771),\n",
       " ('member_id', 0.024356400686138785),\n",
       " ('total_rec_int', 0.01162065608316378),\n",
       " ('index', 0.0071169481225173059),\n",
       " ('revol_bal', 0.0016092965404912137),\n",
       " ('dti', 0.0014318129465704745),\n",
       " ('total_rev_hi_lim', 0.0014296157797533101),\n",
       " ('annual_inc', 0.001326780560464841),\n",
       " ('inq_last_6mths', 0.00097406148917583636),\n",
       " ('tot_cur_bal', 0.00092044323725111541),\n",
       " ('total_acc', 0.00050545986685998981),\n",
       " ('open_acc', 0.00045528616828124468),\n",
       " ('delinq_2yrs', 0.00020650746946305747),\n",
       " ('tot_coll_amt', 0.00019361918791926244),\n",
       " ('pub_rec', 0.00011397057359299506),\n",
       " ('collections_12_mths_ex_med', 3.7806435037841705e-05),\n",
       " ('acc_now_delinq', 2.6174935830029816e-05),\n",
       " ('policy_code', 0.0)]"
      ]
     },
     "execution_count": 172,
     "metadata": {},
     "output_type": "execute_result"
    }
   ],
   "source": [
    "sorted(zip(X.columns,random_forest.feature_importances_), key=lambda tup: tup[1], reverse=True)"
   ]
  },
  {
   "cell_type": "code",
   "execution_count": null,
   "metadata": {
    "collapsed": true
   },
   "outputs": [],
   "source": []
  }
 ],
 "metadata": {
  "kernelspec": {
   "display_name": "Python 2",
   "language": "python",
   "name": "python2"
  },
  "language_info": {
   "codemirror_mode": {
    "name": "ipython",
    "version": 2
   },
   "file_extension": ".py",
   "mimetype": "text/x-python",
   "name": "python",
   "nbconvert_exporter": "python",
   "pygments_lexer": "ipython2",
   "version": "2.7.11"
  }
 },
 "nbformat": 4,
 "nbformat_minor": 0
}
